{
 "cells": [
  {
   "cell_type": "code",
   "execution_count": 1,
   "metadata": {},
   "outputs": [],
   "source": [
    "from puzzlesolver import RotationPuzzle, RotationPuzzleAttempt, RotationPuzzleSolver"
   ]
  },
  {
   "cell_type": "code",
   "execution_count": 2,
   "metadata": {},
   "outputs": [
    {
     "name": "stdout",
     "output_type": "stream",
     "text": [
      "Puzzle :\n",
      "|-2-|-5-|-5-|-1-|-3-|-4-|\n",
      "4   2   2   4   3   4   3\n",
      "|-4-|-2-|-2-|-2-|-4-|-3-|\n",
      "3   2   5   2   2   3   2\n",
      "|-4-|-5-|-3-|-5-|-5-|-1-|\n",
      "2   3   1   2   2   3   2\n",
      "|-4-|-5-|-3-|-4-|-3-|-1-|\n",
      "2   1   3   3   5   5   5\n",
      "|-3-|-1-|-4-|-4-|-5-|-3-|\n",
      "3   1   2   2   1   3   2\n",
      "|-1-|-5-|-1-|-5-|-1-|-2-|\n",
      "2   3   3   2   4   4   2\n",
      "|-4-|-5-|-3-|-1-|-3-|-3-|\n",
      "5   5   2   2   5   1   4\n",
      "|-2-|-1-|-2-|-3-|-3-|-1-|\n",
      "1   5   5   3   1   3   4\n",
      "|-2-|-5-|-4-|-1-|-5-|-2-|\n"
     ]
    }
   ],
   "source": [
    "puzzle = RotationPuzzle(width=6, height=8, random_edgecount=5)\n",
    "print(puzzle.__str__())"
   ]
  },
  {
   "cell_type": "code",
   "execution_count": 3,
   "metadata": {},
   "outputs": [
    {
     "name": "stdout",
     "output_type": "stream",
     "text": [
      "RotationPuzzleAttempt :\n",
      "|-3-||-3-||-5-||-4-|\n",
      "3   44   22   44   2\n",
      "|-2-||-3-||-5-||-5-|\n",
      "|-2-||-3-||-5-||-5-|\n",
      "4   33   55   33   5\n",
      "|-2-||-4-||-5-||-5-|\n",
      "|-2-||-4-||-5-||-5-|\n",
      "2   44   55   55   2\n",
      "|-2-||-1-||-1-||-1-|\n",
      "True\n",
      "RotationPuzzleAttempt :\n",
      "|-3-||-2-||-2-||-4-|\n",
      "3   43   35   55   4\n",
      "|-2-||-4-||-4-||-2-|\n",
      "|-4-||-5-||-5-||-5-|\n",
      "2   23   45   55   3\n",
      "|-3-||-3-||-3-||-5-|\n",
      "|-4-||-4-||-1-||-2-|\n",
      "2   21   45   55   1\n",
      "|-2-||-5-||-5-||-5-|\n",
      "False\n"
     ]
    }
   ],
   "source": [
    "puzzle = RotationPuzzle(width=4, height=3, random_edgecount=5)\n",
    "attempt = RotationPuzzleAttempt(puzzle)\n",
    "print(attempt.__str__())\n",
    "print(attempt.checkValidity())\n",
    "attempt.randomize()\n",
    "print(attempt.__str__())\n",
    "print(attempt.checkValidity())"
   ]
  },
  {
   "cell_type": "code",
   "execution_count": 4,
   "metadata": {},
   "outputs": [
    {
     "name": "stdout",
     "output_type": "stream",
     "text": [
      "Puzzle :\n",
      "|-2-|-2-|-3-|-2-|\n",
      "1   2   4   2   2\n",
      "|-2-|-3-|-4-|-3-|\n",
      "5   3   1   3   1\n",
      "|-1-|-5-|-1-|-3-|\n",
      "1   4   1   4   2\n",
      "|-1-|-3-|-5-|-4-|\n",
      "5   4   1   4   4\n",
      "|-5-|-2-|-3-|-3-|\n",
      "4 solutions :\n",
      "RotationPuzzleAttempt :\n",
      "|-2-||-2-||-3-||-2-|\n",
      "1   22   44   22   2\n",
      "|-2-||-3-||-4-||-3-|\n",
      "|-2-||-3-||-4-||-3-|\n",
      "5   33   11   33   1\n",
      "|-1-||-5-||-1-||-3-|\n",
      "|-1-||-5-||-1-||-3-|\n",
      "1   44   11   44   2\n",
      "|-1-||-3-||-5-||-4-|\n",
      "|-1-||-3-||-5-||-4-|\n",
      "5   44   11   44   4\n",
      "|-5-||-2-||-3-||-3-|\n",
      "True\n",
      "RotationPuzzleAttempt :\n",
      "|-2-||-2-||-3-||-2-|\n",
      "1   22   44   22   2\n",
      "|-2-||-3-||-4-||-3-|\n",
      "|-2-||-3-||-4-||-3-|\n",
      "5   33   11   33   1\n",
      "|-1-||-5-||-1-||-3-|\n",
      "|-1-||-5-||-1-||-3-|\n",
      "1   44   11   44   2\n",
      "|-1-||-3-||-5-||-4-|\n",
      "|-1-||-3-||-5-||-4-|\n",
      "5   44   11   44   3\n",
      "|-5-||-2-||-3-||-4-|\n",
      "True\n",
      "RotationPuzzleAttempt :\n",
      "|-1-||-2-||-3-||-2-|\n",
      "2   22   44   22   2\n",
      "|-2-||-3-||-4-||-3-|\n",
      "|-2-||-3-||-4-||-3-|\n",
      "5   33   11   33   1\n",
      "|-1-||-5-||-1-||-3-|\n",
      "|-1-||-5-||-1-||-3-|\n",
      "1   44   11   44   2\n",
      "|-1-||-3-||-5-||-4-|\n",
      "|-1-||-3-||-5-||-4-|\n",
      "5   44   11   44   4\n",
      "|-5-||-2-||-3-||-3-|\n",
      "True\n",
      "RotationPuzzleAttempt :\n",
      "|-1-||-2-||-3-||-2-|\n",
      "2   22   44   22   2\n",
      "|-2-||-3-||-4-||-3-|\n",
      "|-2-||-3-||-4-||-3-|\n",
      "5   33   11   33   1\n",
      "|-1-||-5-||-1-||-3-|\n",
      "|-1-||-5-||-1-||-3-|\n",
      "1   44   11   44   2\n",
      "|-1-||-3-||-5-||-4-|\n",
      "|-1-||-3-||-5-||-4-|\n",
      "5   44   11   44   3\n",
      "|-5-||-2-||-3-||-4-|\n",
      "True\n"
     ]
    }
   ],
   "source": [
    "puzzle = RotationPuzzle(width=4, height=4, random_edgecount=5, no_symmetry=True)\n",
    "solver = RotationPuzzleSolver()\n",
    "print(puzzle.__str__())\n",
    "res = solver.analyze(puzzle)\n",
    "print(f\"{len(res['solutions'])} solutions :\")\n",
    "for attempt in res['solutions']:\n",
    "    print(attempt.__str__())\n",
    "    print(attempt.checkValidity())"
   ]
  }
 ],
 "metadata": {
  "kernelspec": {
   "display_name": "Python 3",
   "language": "python",
   "name": "python3"
  },
  "language_info": {
   "codemirror_mode": {
    "name": "ipython",
    "version": 3
   },
   "file_extension": ".py",
   "mimetype": "text/x-python",
   "name": "python",
   "nbconvert_exporter": "python",
   "pygments_lexer": "ipython3",
   "version": "3.12.5"
  }
 },
 "nbformat": 4,
 "nbformat_minor": 2
}
