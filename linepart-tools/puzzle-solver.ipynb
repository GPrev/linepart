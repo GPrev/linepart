{
 "cells": [
  {
   "cell_type": "code",
   "execution_count": 1,
   "metadata": {},
   "outputs": [],
   "source": [
    "from puzzlesolver import RotationPuzzle"
   ]
  },
  {
   "cell_type": "code",
   "execution_count": 5,
   "metadata": {},
   "outputs": [
    {
     "name": "stdout",
     "output_type": "stream",
     "text": [
      "Puzzle :\n",
      "|-4-|-1-|-5-|-4-|-3-|-4-|\n",
      "1   4   5   4   5   5   5\n",
      "|-3-|-2-|-5-|-3-|-3-|-5-|\n",
      "2   3   5   4   5   1   1\n",
      "|-5-|-1-|-3-|-4-|-2-|-4-|\n",
      "5   1   1   5   4   3   3\n",
      "|-5-|-3-|-2-|-3-|-3-|-3-|\n",
      "1   4   1   2   5   2   5\n",
      "|-4-|-5-|-4-|-5-|-1-|-5-|\n",
      "4   2   4   3   3   5   3\n",
      "|-1-|-2-|-3-|-5-|-4-|-3-|\n",
      "3   3   4   5   4   3   4\n",
      "|-4-|-5-|-3-|-2-|-2-|-5-|\n",
      "3   4   2   3   2   3   3\n",
      "|-5-|-5-|-1-|-5-|-3-|-2-|\n",
      "5   3   5   5   3   2   4\n",
      "|-2-|-4-|-4-|-2-|-1-|-5-|\n"
     ]
    }
   ],
   "source": [
    "puzzle = RotationPuzzle(width=6, height=8, random_edgecount=5)\n",
    "print(puzzle.__str__())"
   ]
  }
 ],
 "metadata": {
  "kernelspec": {
   "display_name": "Python 3",
   "language": "python",
   "name": "python3"
  },
  "language_info": {
   "codemirror_mode": {
    "name": "ipython",
    "version": 3
   },
   "file_extension": ".py",
   "mimetype": "text/x-python",
   "name": "python",
   "nbconvert_exporter": "python",
   "pygments_lexer": "ipython3",
   "version": "3.12.5"
  }
 },
 "nbformat": 4,
 "nbformat_minor": 2
}
