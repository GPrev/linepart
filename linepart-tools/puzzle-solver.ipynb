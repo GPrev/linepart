{
 "cells": [
  {
   "cell_type": "code",
   "execution_count": 17,
   "metadata": {},
   "outputs": [],
   "source": [
    "from puzzlesolver import RotationPuzzle, RotationPuzzleAttempt, RotationPuzzleSolver\n",
    "import statistics\n",
    "import pandas as pd\n",
    "import seaborn as sns"
   ]
  },
  {
   "cell_type": "code",
   "execution_count": 18,
   "metadata": {},
   "outputs": [
    {
     "name": "stdout",
     "output_type": "stream",
     "text": [
      "Puzzle :\n",
      "|-5-|-4-|-2-|-2-|-4-|-5-|\n",
      "5   5   2   4   1   5   3\n",
      "|-4-|-4-|-3-|-1-|-1-|-3-|\n",
      "1   5   4   4   1   3   4\n",
      "|-4-|-1-|-1-|-3-|-5-|-5-|\n",
      "3   3   4   2   5   4   5\n",
      "|-2-|-5-|-5-|-4-|-1-|-5-|\n",
      "3   5   1   3   3   5   3\n",
      "|-4-|-3-|-3-|-3-|-4-|-2-|\n",
      "3   3   1   2   5   5   2\n",
      "|-1-|-3-|-1-|-2-|-4-|-4-|\n",
      "3   4   3   1   4   2   1\n",
      "|-1-|-1-|-5-|-1-|-3-|-3-|\n",
      "1   5   5   5   2   2   5\n",
      "|-1-|-1-|-4-|-5-|-1-|-1-|\n",
      "3   4   2   3   4   1   3\n",
      "|-4-|-1-|-2-|-4-|-3-|-1-|\n"
     ]
    }
   ],
   "source": [
    "puzzle = RotationPuzzle(width=6, height=8, random_edgecount=5)\n",
    "print(puzzle.__str__())"
   ]
  },
  {
   "cell_type": "code",
   "execution_count": 19,
   "metadata": {},
   "outputs": [
    {
     "name": "stdout",
     "output_type": "stream",
     "text": [
      "RotationPuzzleAttempt :\n",
      "|-2-||-4-||-2-||-5-|\n",
      "4   55   22   22   4\n",
      "|-1-||-5-||-5-||-3-|\n",
      "|-1-||-5-||-5-||-3-|\n",
      "1   33   55   44   5\n",
      "|-2-||-2-||-3-||-1-|\n",
      "|-2-||-2-||-3-||-1-|\n",
      "4   44   11   55   5\n",
      "|-1-||-2-||-1-||-4-|\n",
      "True\n",
      "RotationPuzzleAttempt :\n",
      "|-5-||-4-||-2-||-5-|\n",
      "2   15   25   22   4\n",
      "|-4-||-5-||-2-||-3-|\n",
      "|-3-||-5-||-4-||-1-|\n",
      "1   25   25   35   4\n",
      "|-1-||-3-||-5-||-3-|\n",
      "|-4-||-1-||-3-||-5-|\n",
      "1   22   21   54   1\n",
      "|-4-||-4-||-1-||-5-|\n",
      "False\n"
     ]
    }
   ],
   "source": [
    "puzzle = RotationPuzzle(width=4, height=3, random_edgecount=5)\n",
    "attempt = RotationPuzzleAttempt(puzzle)\n",
    "print(attempt.__str__())\n",
    "print(attempt.checkValidity())\n",
    "attempt.randomize()\n",
    "print(attempt.__str__())\n",
    "print(attempt.checkValidity())"
   ]
  },
  {
   "cell_type": "code",
   "execution_count": 20,
   "metadata": {},
   "outputs": [
    {
     "name": "stdout",
     "output_type": "stream",
     "text": [
      "Puzzle :\n",
      "|-4-|-2-|-3-|-1-|\n",
      "1   5   5   3   4\n",
      "|-1-|-5-|-5-|-1-|\n",
      "1   5   5   4   5\n",
      "|-2-|-2-|-2-|-2-|\n",
      "3   1   2   3   1\n",
      "|-2-|-3-|-5-|-2-|\n",
      "3   2   2   4   5\n",
      "|-2-|-2-|-5-|-3-|\n",
      "Difficulty 16\n",
      "3 steps :\n",
      "[[8, 5, 2, 1], [15, 0, 0, 1], [15, 1, 0, 0]]\n",
      "2 solution(s) :\n",
      "RotationPuzzleAttempt :\n",
      "|-4-||-2-||-3-||-1-|\n",
      "1   55   55   33   4\n",
      "|-1-||-5-||-5-||-1-|\n",
      "|-1-||-5-||-5-||-1-|\n",
      "1   55   55   44   5\n",
      "|-2-||-2-||-2-||-2-|\n",
      "|-2-||-2-||-2-||-2-|\n",
      "3   11   22   33   1\n",
      "|-2-||-3-||-5-||-2-|\n",
      "|-2-||-3-||-5-||-2-|\n",
      "3   22   22   44   5\n",
      "|-2-||-2-||-5-||-3-|\n",
      "True\n",
      "RotationPuzzleAttempt :\n",
      "|-4-||-2-||-3-||-1-|\n",
      "1   55   55   33   4\n",
      "|-1-||-5-||-5-||-1-|\n",
      "|-1-||-5-||-5-||-1-|\n",
      "1   55   55   44   5\n",
      "|-2-||-2-||-2-||-2-|\n",
      "|-2-||-2-||-2-||-2-|\n",
      "3   11   22   33   1\n",
      "|-2-||-3-||-5-||-2-|\n",
      "|-2-||-3-||-5-||-2-|\n",
      "2   22   22   44   5\n",
      "|-3-||-2-||-5-||-3-|\n",
      "True\n"
     ]
    }
   ],
   "source": [
    "puzzle = RotationPuzzle(width=4, height=4, random_edgecount=5, no_symmetry=True)\n",
    "solver = RotationPuzzleSolver()\n",
    "print(puzzle.__str__())\n",
    "res = solver.analyze(puzzle)\n",
    "print(f\"Difficulty {res.difficultyIndex}\")\n",
    "print(f\"{len(res.stepStats)} steps :\")\n",
    "print(res.stepStats)\n",
    "print(f\"{len(res.solutions)} solution(s) :\")\n",
    "for attempt in res.solutions:\n",
    "    print(attempt.__str__())\n",
    "    print(attempt.checkValidity())"
   ]
  },
  {
   "cell_type": "code",
   "execution_count": 21,
   "metadata": {},
   "outputs": [
    {
     "name": "stdout",
     "output_type": "stream",
     "text": [
      "* Puzzle 4x4, 4 different edges\n",
      "min : 6, med : 22.5, max : 53\n",
      "* Puzzle 5x5, 4 different edges\n",
      "min : 11, med : 33.0, max : 70\n",
      "* Puzzle 6x6, 4 different edges\n",
      "min : 18, med : 44.0, max : 85\n",
      "* Puzzle 7x7, 4 different edges\n",
      "min : 27, med : 55.5, max : 122\n",
      "* Puzzle 8x8, 4 different edges\n",
      "min : 47, med : 73.0, max : 130\n",
      "* Puzzle 4x4, 5 different edges\n",
      "min : 4, med : 13.0, max : 28\n",
      "* Puzzle 5x5, 5 different edges\n",
      "min : 7, med : 19.0, max : 46\n",
      "* Puzzle 6x6, 5 different edges\n",
      "min : 7, med : 25.0, max : 53\n",
      "* Puzzle 7x7, 5 different edges\n",
      "min : 16, med : 30.5, max : 56\n",
      "* Puzzle 8x8, 5 different edges\n",
      "min : 17, med : 36.0, max : 69\n",
      "* Puzzle 4x4, 6 different edges\n",
      "min : 1, med : 8.0, max : 19\n",
      "* Puzzle 5x5, 6 different edges\n",
      "min : 2, med : 12.0, max : 35\n",
      "* Puzzle 6x6, 6 different edges\n",
      "min : 6, med : 16.5, max : 35\n",
      "* Puzzle 7x7, 6 different edges\n",
      "min : 8, med : 19.0, max : 45\n",
      "* Puzzle 8x8, 6 different edges\n",
      "min : 10, med : 24.0, max : 52\n",
      "* Puzzle 4x4, 7 different edges\n",
      "min : 0, med : 6.0, max : 18\n",
      "* Puzzle 5x5, 7 different edges\n",
      "min : 3, med : 8.0, max : 21\n",
      "* Puzzle 6x6, 7 different edges\n",
      "min : 3, med : 11.0, max : 22\n",
      "* Puzzle 7x7, 7 different edges\n",
      "min : 4, med : 12.0, max : 29\n",
      "* Puzzle 8x8, 7 different edges\n",
      "min : 5, med : 16.0, max : 40\n",
      "* Puzzle 4x4, 8 different edges\n",
      "min : 0, med : 4.0, max : 17\n",
      "* Puzzle 5x5, 8 different edges\n",
      "min : 1, med : 6.0, max : 14\n",
      "* Puzzle 6x6, 8 different edges\n",
      "min : 2, med : 7.5, max : 18\n",
      "* Puzzle 7x7, 8 different edges\n",
      "min : 1, med : 9.0, max : 22\n",
      "* Puzzle 8x8, 8 different edges\n",
      "min : 3, med : 10.0, max : 22\n"
     ]
    }
   ],
   "source": [
    "solver = RotationPuzzleSolver()\n",
    "def randomPuzzleDiff(width: int, height: int, random_edgecount: int):\n",
    "    return solver.analyze(RotationPuzzle(width=width, height=height, random_edgecount=random_edgecount, no_symmetry=True)).difficultyIndex\n",
    "\n",
    "nb_iter = 100\n",
    "sizes = [[n, n] for n in range(4, 9)]\n",
    "edgecounts = range(4, 9)\n",
    "\n",
    "difficultyStatsRows = []\n",
    "\n",
    "for edgecount in edgecounts:\n",
    "    for size in sizes:\n",
    "        print(f\"* Puzzle {size[0]}x{size[1]}, {edgecount} different edges\")\n",
    "        diffs = [randomPuzzleDiff(size[0], size[1], edgecount) for _ in range(nb_iter)]\n",
    "        difficultyStatsRows.append([size[0], size[1], edgecount, min(diffs), statistics.median(diffs), max(diffs)])\n",
    "        print(f\"min : {min(diffs)}, med : {statistics.median(diffs)}, max : {max(diffs)}\")\n",
    "\n",
    "difficultyStats = pd.DataFrame(difficultyStatsRows, columns=[\"Width\", \"Height\", \"Edges\", \"Min\", \"Med\", \"Max\"])"
   ]
  },
  {
   "cell_type": "code",
   "execution_count": 24,
   "metadata": {},
   "outputs": [
    {
     "data": {
      "text/plain": [
       "<Axes: xlabel='Edges', ylabel='Width'>"
      ]
     },
     "execution_count": 24,
     "metadata": {},
     "output_type": "execute_result"
    },
    {
     "data": {
      "image/png": "[encoded data removed]",
      "text/plain": [
       "<Figure size 640x480 with 2 Axes>"
      ]
     },
     "metadata": {},
     "output_type": "display_data"
    }
   ],
   "source": [
    "snspivot = difficultyStats.pivot(index=\"Width\", columns=\"Edges\", values=\"Med\")\n",
    "sns.heatmap(snspivot)"
   ]
  }
 ],
 "metadata": {
  "kernelspec": {
   "display_name": "Python 3",
   "language": "python",
   "name": "python3"
  },
  "language_info": {
   "codemirror_mode": {
    "name": "ipython",
    "version": 3
   },
   "file_extension": ".py",
   "mimetype": "text/x-python",
   "name": "python",
   "nbconvert_exporter": "python",
   "pygments_lexer": "ipython3",
   "version": "3.12.5"
  }
 },
 "nbformat": 4,
 "nbformat_minor": 2
}
