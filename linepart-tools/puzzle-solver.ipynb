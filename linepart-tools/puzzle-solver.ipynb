{
 "cells": [
  {
   "cell_type": "code",
   "execution_count": 1,
   "metadata": {},
   "outputs": [],
   "source": [
    "from puzzlesolver import RotationPuzzle, RotationPuzzleAttempt"
   ]
  },
  {
   "cell_type": "code",
   "execution_count": 2,
   "metadata": {},
   "outputs": [
    {
     "name": "stdout",
     "output_type": "stream",
     "text": [
      "Puzzle :\n",
      "|-1-|-1-|-2-|-3-|-2-|-4-|\n",
      "3   5   3   1   2   5   4\n",
      "|-4-|-2-|-2-|-2-|-3-|-3-|\n",
      "3   4   3   3   4   2   5\n",
      "|-5-|-1-|-4-|-5-|-2-|-3-|\n",
      "2   4   5   2   5   4   3\n",
      "|-4-|-2-|-1-|-4-|-5-|-2-|\n",
      "4   5   4   4   3   1   1\n",
      "|-1-|-4-|-3-|-4-|-4-|-3-|\n",
      "3   4   1   2   2   4   3\n",
      "|-2-|-1-|-4-|-4-|-3-|-4-|\n",
      "5   1   1   5   5   3   1\n",
      "|-3-|-1-|-5-|-4-|-5-|-1-|\n",
      "2   4   2   3   3   1   3\n",
      "|-2-|-4-|-2-|-5-|-4-|-3-|\n",
      "2   3   2   1   2   1   5\n",
      "|-3-|-4-|-5-|-5-|-4-|-1-|\n"
     ]
    }
   ],
   "source": [
    "puzzle = RotationPuzzle(width=6, height=8, random_edgecount=5)\n",
    "print(puzzle.__str__())"
   ]
  },
  {
   "cell_type": "code",
   "execution_count": 4,
   "metadata": {},
   "outputs": [
    {
     "name": "stdout",
     "output_type": "stream",
     "text": [
      "RotationPuzzleAttempt :\n",
      "|-2-||-3-||-1-||-2-|\n",
      "2   22   55   44   2\n",
      "|-2-||-5-||-5-||-2-|\n",
      "|-2-||-5-||-5-||-2-|\n",
      "5   11   11   33   3\n",
      "|-3-||-5-||-5-||-1-|\n",
      "|-3-||-5-||-5-||-1-|\n",
      "1   22   44   55   3\n",
      "|-3-||-3-||-5-||-4-|\n",
      "True\n",
      "RotationPuzzleAttempt :\n",
      "|-2-||-3-||-5-||-2-|\n",
      "2   22   54   54   2\n",
      "|-2-||-5-||-1-||-2-|\n",
      "|-2-||-5-||-1-||-3-|\n",
      "5   11   15   51   2\n",
      "|-3-||-5-||-3-||-3-|\n",
      "|-3-||-2-||-4-||-5-|\n",
      "2   13   55   54   1\n",
      "|-3-||-4-||-5-||-3-|\n",
      "False\n"
     ]
    }
   ],
   "source": [
    "puzzle = RotationPuzzle(width=4, height=3, random_edgecount=5)\n",
    "attempt = RotationPuzzleAttempt(puzzle)\n",
    "print(attempt.__str__())\n",
    "print(attempt.checkValidity())\n",
    "attempt.randomize()\n",
    "print(attempt.__str__())\n",
    "print(attempt.checkValidity())"
   ]
  }
 ],
 "metadata": {
  "kernelspec": {
   "display_name": "Python 3",
   "language": "python",
   "name": "python3"
  },
  "language_info": {
   "codemirror_mode": {
    "name": "ipython",
    "version": 3
   },
   "file_extension": ".py",
   "mimetype": "text/x-python",
   "name": "python",
   "nbconvert_exporter": "python",
   "pygments_lexer": "ipython3",
   "version": "3.12.5"
  }
 },
 "nbformat": 4,
 "nbformat_minor": 2
}
